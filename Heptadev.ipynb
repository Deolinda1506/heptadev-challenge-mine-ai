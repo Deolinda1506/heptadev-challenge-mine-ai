{
  "nbformat": 4,
  "nbformat_minor": 0,
  "metadata": {
    "colab": {
      "provenance": [],
      "authorship_tag": "ABX9TyOpsxG4idCvfyRY+nd+n8W8",
      "include_colab_link": true
    },
    "kernelspec": {
      "name": "python3",
      "display_name": "Python 3"
    },
    "language_info": {
      "name": "python"
    }
  },
  "cells": [
    {
      "cell_type": "markdown",
      "metadata": {
        "id": "view-in-github",
        "colab_type": "text"
      },
      "source": [
        "<a href=\"https://colab.research.google.com/github/Deolinda1506/heptadev-challenge-mine-ai/blob/main/Heptadev.ipynb\" target=\"_parent\"><img src=\"https://colab.research.google.com/assets/colab-badge.svg\" alt=\"Open In Colab\"/></a>"
      ]
    },
    {
      "cell_type": "markdown",
      "source": [
        "🧪 1. Generate Mock Sensor Data"
      ],
      "metadata": {
        "id": "8idp8anlEHBQ"
      }
    },
    {
      "cell_type": "code",
      "execution_count": 8,
      "metadata": {
        "colab": {
          "base_uri": "https://localhost:8080/",
          "height": 224
        },
        "id": "0dlhGzsqAuaZ",
        "outputId": "80c37141-5a7e-4f97-e6ba-4a2caf4def79"
      },
      "outputs": [
        {
          "output_type": "stream",
          "name": "stdout",
          "text": [
            "Mock data saved to 'mock_sensor_data.csv'\n"
          ]
        },
        {
          "output_type": "execute_result",
          "data": {
            "text/plain": [
              "            timestamp   gas_level  temperature   humidity  vibration  pressure\n",
              "0 2025-01-01 00:00:00  104.967142    36.996777  53.248217   1.618438  0.913651\n",
              "1 2025-01-01 00:01:00   98.617357    34.623168  58.554813   1.827923  0.996880\n",
              "2 2025-01-01 00:02:00  106.476885    30.298152  52.075801   1.917279  1.001802\n",
              "3 2025-01-01 00:03:00  115.230299    26.765316  56.920385   2.377538  1.047263\n",
              "4 2025-01-01 00:04:00   97.658466    33.491117  41.063853   2.111311  0.863314"
            ],
            "text/html": [
              "\n",
              "  <div id=\"df-7a05e563-7da1-4814-8218-e9916a6b94d1\" class=\"colab-df-container\">\n",
              "    <div>\n",
              "<style scoped>\n",
              "    .dataframe tbody tr th:only-of-type {\n",
              "        vertical-align: middle;\n",
              "    }\n",
              "\n",
              "    .dataframe tbody tr th {\n",
              "        vertical-align: top;\n",
              "    }\n",
              "\n",
              "    .dataframe thead th {\n",
              "        text-align: right;\n",
              "    }\n",
              "</style>\n",
              "<table border=\"1\" class=\"dataframe\">\n",
              "  <thead>\n",
              "    <tr style=\"text-align: right;\">\n",
              "      <th></th>\n",
              "      <th>timestamp</th>\n",
              "      <th>gas_level</th>\n",
              "      <th>temperature</th>\n",
              "      <th>humidity</th>\n",
              "      <th>vibration</th>\n",
              "      <th>pressure</th>\n",
              "    </tr>\n",
              "  </thead>\n",
              "  <tbody>\n",
              "    <tr>\n",
              "      <th>0</th>\n",
              "      <td>2025-01-01 00:00:00</td>\n",
              "      <td>104.967142</td>\n",
              "      <td>36.996777</td>\n",
              "      <td>53.248217</td>\n",
              "      <td>1.618438</td>\n",
              "      <td>0.913651</td>\n",
              "    </tr>\n",
              "    <tr>\n",
              "      <th>1</th>\n",
              "      <td>2025-01-01 00:01:00</td>\n",
              "      <td>98.617357</td>\n",
              "      <td>34.623168</td>\n",
              "      <td>58.554813</td>\n",
              "      <td>1.827923</td>\n",
              "      <td>0.996880</td>\n",
              "    </tr>\n",
              "    <tr>\n",
              "      <th>2</th>\n",
              "      <td>2025-01-01 00:02:00</td>\n",
              "      <td>106.476885</td>\n",
              "      <td>30.298152</td>\n",
              "      <td>52.075801</td>\n",
              "      <td>1.917279</td>\n",
              "      <td>1.001802</td>\n",
              "    </tr>\n",
              "    <tr>\n",
              "      <th>3</th>\n",
              "      <td>2025-01-01 00:03:00</td>\n",
              "      <td>115.230299</td>\n",
              "      <td>26.765316</td>\n",
              "      <td>56.920385</td>\n",
              "      <td>2.377538</td>\n",
              "      <td>1.047263</td>\n",
              "    </tr>\n",
              "    <tr>\n",
              "      <th>4</th>\n",
              "      <td>2025-01-01 00:04:00</td>\n",
              "      <td>97.658466</td>\n",
              "      <td>33.491117</td>\n",
              "      <td>41.063853</td>\n",
              "      <td>2.111311</td>\n",
              "      <td>0.863314</td>\n",
              "    </tr>\n",
              "  </tbody>\n",
              "</table>\n",
              "</div>\n",
              "    <div class=\"colab-df-buttons\">\n",
              "\n",
              "  <div class=\"colab-df-container\">\n",
              "    <button class=\"colab-df-convert\" onclick=\"convertToInteractive('df-7a05e563-7da1-4814-8218-e9916a6b94d1')\"\n",
              "            title=\"Convert this dataframe to an interactive table.\"\n",
              "            style=\"display:none;\">\n",
              "\n",
              "  <svg xmlns=\"http://www.w3.org/2000/svg\" height=\"24px\" viewBox=\"0 -960 960 960\">\n",
              "    <path d=\"M120-120v-720h720v720H120Zm60-500h600v-160H180v160Zm220 220h160v-160H400v160Zm0 220h160v-160H400v160ZM180-400h160v-160H180v160Zm440 0h160v-160H620v160ZM180-180h160v-160H180v160Zm440 0h160v-160H620v160Z\"/>\n",
              "  </svg>\n",
              "    </button>\n",
              "\n",
              "  <style>\n",
              "    .colab-df-container {\n",
              "      display:flex;\n",
              "      gap: 12px;\n",
              "    }\n",
              "\n",
              "    .colab-df-convert {\n",
              "      background-color: #E8F0FE;\n",
              "      border: none;\n",
              "      border-radius: 50%;\n",
              "      cursor: pointer;\n",
              "      display: none;\n",
              "      fill: #1967D2;\n",
              "      height: 32px;\n",
              "      padding: 0 0 0 0;\n",
              "      width: 32px;\n",
              "    }\n",
              "\n",
              "    .colab-df-convert:hover {\n",
              "      background-color: #E2EBFA;\n",
              "      box-shadow: 0px 1px 2px rgba(60, 64, 67, 0.3), 0px 1px 3px 1px rgba(60, 64, 67, 0.15);\n",
              "      fill: #174EA6;\n",
              "    }\n",
              "\n",
              "    .colab-df-buttons div {\n",
              "      margin-bottom: 4px;\n",
              "    }\n",
              "\n",
              "    [theme=dark] .colab-df-convert {\n",
              "      background-color: #3B4455;\n",
              "      fill: #D2E3FC;\n",
              "    }\n",
              "\n",
              "    [theme=dark] .colab-df-convert:hover {\n",
              "      background-color: #434B5C;\n",
              "      box-shadow: 0px 1px 3px 1px rgba(0, 0, 0, 0.15);\n",
              "      filter: drop-shadow(0px 1px 2px rgba(0, 0, 0, 0.3));\n",
              "      fill: #FFFFFF;\n",
              "    }\n",
              "  </style>\n",
              "\n",
              "    <script>\n",
              "      const buttonEl =\n",
              "        document.querySelector('#df-7a05e563-7da1-4814-8218-e9916a6b94d1 button.colab-df-convert');\n",
              "      buttonEl.style.display =\n",
              "        google.colab.kernel.accessAllowed ? 'block' : 'none';\n",
              "\n",
              "      async function convertToInteractive(key) {\n",
              "        const element = document.querySelector('#df-7a05e563-7da1-4814-8218-e9916a6b94d1');\n",
              "        const dataTable =\n",
              "          await google.colab.kernel.invokeFunction('convertToInteractive',\n",
              "                                                    [key], {});\n",
              "        if (!dataTable) return;\n",
              "\n",
              "        const docLinkHtml = 'Like what you see? Visit the ' +\n",
              "          '<a target=\"_blank\" href=https://colab.research.google.com/notebooks/data_table.ipynb>data table notebook</a>'\n",
              "          + ' to learn more about interactive tables.';\n",
              "        element.innerHTML = '';\n",
              "        dataTable['output_type'] = 'display_data';\n",
              "        await google.colab.output.renderOutput(dataTable, element);\n",
              "        const docLink = document.createElement('div');\n",
              "        docLink.innerHTML = docLinkHtml;\n",
              "        element.appendChild(docLink);\n",
              "      }\n",
              "    </script>\n",
              "  </div>\n",
              "\n",
              "\n",
              "    <div id=\"df-ba59799c-f1f4-400f-8dc1-9588e6cdc5a3\">\n",
              "      <button class=\"colab-df-quickchart\" onclick=\"quickchart('df-ba59799c-f1f4-400f-8dc1-9588e6cdc5a3')\"\n",
              "                title=\"Suggest charts\"\n",
              "                style=\"display:none;\">\n",
              "\n",
              "<svg xmlns=\"http://www.w3.org/2000/svg\" height=\"24px\"viewBox=\"0 0 24 24\"\n",
              "     width=\"24px\">\n",
              "    <g>\n",
              "        <path d=\"M19 3H5c-1.1 0-2 .9-2 2v14c0 1.1.9 2 2 2h14c1.1 0 2-.9 2-2V5c0-1.1-.9-2-2-2zM9 17H7v-7h2v7zm4 0h-2V7h2v10zm4 0h-2v-4h2v4z\"/>\n",
              "    </g>\n",
              "</svg>\n",
              "      </button>\n",
              "\n",
              "<style>\n",
              "  .colab-df-quickchart {\n",
              "      --bg-color: #E8F0FE;\n",
              "      --fill-color: #1967D2;\n",
              "      --hover-bg-color: #E2EBFA;\n",
              "      --hover-fill-color: #174EA6;\n",
              "      --disabled-fill-color: #AAA;\n",
              "      --disabled-bg-color: #DDD;\n",
              "  }\n",
              "\n",
              "  [theme=dark] .colab-df-quickchart {\n",
              "      --bg-color: #3B4455;\n",
              "      --fill-color: #D2E3FC;\n",
              "      --hover-bg-color: #434B5C;\n",
              "      --hover-fill-color: #FFFFFF;\n",
              "      --disabled-bg-color: #3B4455;\n",
              "      --disabled-fill-color: #666;\n",
              "  }\n",
              "\n",
              "  .colab-df-quickchart {\n",
              "    background-color: var(--bg-color);\n",
              "    border: none;\n",
              "    border-radius: 50%;\n",
              "    cursor: pointer;\n",
              "    display: none;\n",
              "    fill: var(--fill-color);\n",
              "    height: 32px;\n",
              "    padding: 0;\n",
              "    width: 32px;\n",
              "  }\n",
              "\n",
              "  .colab-df-quickchart:hover {\n",
              "    background-color: var(--hover-bg-color);\n",
              "    box-shadow: 0 1px 2px rgba(60, 64, 67, 0.3), 0 1px 3px 1px rgba(60, 64, 67, 0.15);\n",
              "    fill: var(--button-hover-fill-color);\n",
              "  }\n",
              "\n",
              "  .colab-df-quickchart-complete:disabled,\n",
              "  .colab-df-quickchart-complete:disabled:hover {\n",
              "    background-color: var(--disabled-bg-color);\n",
              "    fill: var(--disabled-fill-color);\n",
              "    box-shadow: none;\n",
              "  }\n",
              "\n",
              "  .colab-df-spinner {\n",
              "    border: 2px solid var(--fill-color);\n",
              "    border-color: transparent;\n",
              "    border-bottom-color: var(--fill-color);\n",
              "    animation:\n",
              "      spin 1s steps(1) infinite;\n",
              "  }\n",
              "\n",
              "  @keyframes spin {\n",
              "    0% {\n",
              "      border-color: transparent;\n",
              "      border-bottom-color: var(--fill-color);\n",
              "      border-left-color: var(--fill-color);\n",
              "    }\n",
              "    20% {\n",
              "      border-color: transparent;\n",
              "      border-left-color: var(--fill-color);\n",
              "      border-top-color: var(--fill-color);\n",
              "    }\n",
              "    30% {\n",
              "      border-color: transparent;\n",
              "      border-left-color: var(--fill-color);\n",
              "      border-top-color: var(--fill-color);\n",
              "      border-right-color: var(--fill-color);\n",
              "    }\n",
              "    40% {\n",
              "      border-color: transparent;\n",
              "      border-right-color: var(--fill-color);\n",
              "      border-top-color: var(--fill-color);\n",
              "    }\n",
              "    60% {\n",
              "      border-color: transparent;\n",
              "      border-right-color: var(--fill-color);\n",
              "    }\n",
              "    80% {\n",
              "      border-color: transparent;\n",
              "      border-right-color: var(--fill-color);\n",
              "      border-bottom-color: var(--fill-color);\n",
              "    }\n",
              "    90% {\n",
              "      border-color: transparent;\n",
              "      border-bottom-color: var(--fill-color);\n",
              "    }\n",
              "  }\n",
              "</style>\n",
              "\n",
              "      <script>\n",
              "        async function quickchart(key) {\n",
              "          const quickchartButtonEl =\n",
              "            document.querySelector('#' + key + ' button');\n",
              "          quickchartButtonEl.disabled = true;  // To prevent multiple clicks.\n",
              "          quickchartButtonEl.classList.add('colab-df-spinner');\n",
              "          try {\n",
              "            const charts = await google.colab.kernel.invokeFunction(\n",
              "                'suggestCharts', [key], {});\n",
              "          } catch (error) {\n",
              "            console.error('Error during call to suggestCharts:', error);\n",
              "          }\n",
              "          quickchartButtonEl.classList.remove('colab-df-spinner');\n",
              "          quickchartButtonEl.classList.add('colab-df-quickchart-complete');\n",
              "        }\n",
              "        (() => {\n",
              "          let quickchartButtonEl =\n",
              "            document.querySelector('#df-ba59799c-f1f4-400f-8dc1-9588e6cdc5a3 button');\n",
              "          quickchartButtonEl.style.display =\n",
              "            google.colab.kernel.accessAllowed ? 'block' : 'none';\n",
              "        })();\n",
              "      </script>\n",
              "    </div>\n",
              "\n",
              "    </div>\n",
              "  </div>\n"
            ],
            "application/vnd.google.colaboratory.intrinsic+json": {
              "type": "dataframe",
              "variable_name": "df",
              "summary": "{\n  \"name\": \"df\",\n  \"rows\": 1000,\n  \"fields\": [\n    {\n      \"column\": \"timestamp\",\n      \"properties\": {\n        \"dtype\": \"date\",\n        \"min\": \"2025-01-01 00:00:00\",\n        \"max\": \"2025-01-01 16:39:00\",\n        \"num_unique_values\": 1000,\n        \"samples\": [\n          \"2025-01-01 08:41:00\",\n          \"2025-01-01 12:17:00\",\n          \"2025-01-01 12:20:00\"\n        ],\n        \"semantic_type\": \"\",\n        \"description\": \"\"\n      }\n    },\n    {\n      \"column\": \"gas_level\",\n      \"properties\": {\n        \"dtype\": \"number\",\n        \"std\": 12.64439779159611,\n        \"min\": 17.58732659930927,\n        \"max\": 115.23029856408026,\n        \"num_unique_values\": 1000,\n        \"samples\": [\n          55.43360192379935,\n          59.82690983945514,\n          31.591257686683548\n        ],\n        \"semantic_type\": \"\",\n        \"description\": \"\"\n      }\n    },\n    {\n      \"column\": \"temperature\",\n      \"properties\": {\n        \"dtype\": \"number\",\n        \"std\": 4.987271886137101,\n        \"min\": 15.298056826678598,\n        \"max\": 45.965537839224304,\n        \"num_unique_values\": 1000,\n        \"samples\": [\n          32.910488517343076,\n          24.660985392104035,\n          29.477753907312643\n        ],\n        \"semantic_type\": \"\",\n        \"description\": \"\"\n      }\n    },\n    {\n      \"column\": \"humidity\",\n      \"properties\": {\n        \"dtype\": \"number\",\n        \"std\": 9.834542811020732,\n        \"min\": 29.804878441791747,\n        \"max\": 99.26237706436326,\n        \"num_unique_values\": 1000,\n        \"samples\": [\n          89.85259002603411,\n          63.423378344896214,\n          64.1486550036191\n        ],\n        \"semantic_type\": \"\",\n        \"description\": \"\"\n      }\n    },\n    {\n      \"column\": \"vibration\",\n      \"properties\": {\n        \"dtype\": \"number\",\n        \"std\": 0.3104807613100201,\n        \"min\": -0.08588973800045363,\n        \"max\": 2.409962419157185,\n        \"num_unique_values\": 1000,\n        \"samples\": [\n          0.0013458359339844628,\n          0.4681275535708187,\n          0.35706386460191364\n        ],\n        \"semantic_type\": \"\",\n        \"description\": \"\"\n      }\n    },\n    {\n      \"column\": \"pressure\",\n      \"properties\": {\n        \"dtype\": \"number\",\n        \"std\": 0.09923802133010438,\n        \"min\": 0.6823296186804,\n        \"max\": 1.3112910201043841,\n        \"num_unique_values\": 1000,\n        \"samples\": [\n          1.1074333004770245,\n          1.0034008096228146,\n          1.0518871180440121\n        ],\n        \"semantic_type\": \"\",\n        \"description\": \"\"\n      }\n    }\n  ]\n}"
            }
          },
          "metadata": {},
          "execution_count": 8
        }
      ],
      "source": [
        "import pandas as pd\n",
        "import numpy as np\n",
        "\n",
        "def generate_mock_data(n_samples=1000, seed=42):\n",
        "    np.random.seed(seed)\n",
        "    data = {\n",
        "        'timestamp': pd.date_range(start='2025-01-01', periods=n_samples, freq='min'),\n",
        "        'gas_level': np.random.normal(50, 10, n_samples),\n",
        "        'temperature': np.random.normal(30, 5, n_samples),\n",
        "        'humidity': np.random.normal(60, 10, n_samples),\n",
        "        'vibration': np.random.normal(0.5, 0.2, n_samples),\n",
        "        'pressure': np.random.normal(1.0, 0.1, n_samples)\n",
        "    }\n",
        "\n",
        "    # Inject anomalies\n",
        "    for i in range(0, n_samples, 200):\n",
        "        data['gas_level'][i:i+5] += 50\n",
        "        data['vibration'][i:i+5] += 1.5\n",
        "\n",
        "    df = pd.DataFrame(data)\n",
        "    df.to_csv('mock_sensor_data.csv', index=False)\n",
        "    print(\"Mock data saved to 'mock_sensor_data.csv'\")\n",
        "    return df\n",
        "\n",
        "df = generate_mock_data()\n",
        "df.head()\n"
      ]
    },
    {
      "cell_type": "markdown",
      "source": [
        "🤖 2. Train Anomaly Detection Model (ML Pipeline)"
      ],
      "metadata": {
        "id": "rRfWXyABD6dF"
      }
    },
    {
      "cell_type": "code",
      "source": [
        "from sklearn.ensemble import IsolationForest\n",
        "from sklearn.preprocessing import StandardScaler\n",
        "import joblib\n",
        "import shap\n",
        "import matplotlib.pyplot as plt\n",
        "import numpy as np\n",
        "import pandas as pd\n",
        "import warnings\n",
        "\n",
        "# Suppress FutureWarnings related to np.random.seed\n",
        "warnings.simplefilter(action='ignore', category=FutureWarning)\n",
        "\n",
        "# Load mock data\n",
        "data = pd.read_csv('mock_sensor_data.csv')\n",
        "features = ['gas_level', 'temperature', 'humidity', 'vibration', 'pressure']\n",
        "X_raw = data[features]\n",
        "\n",
        "# Preprocess\n",
        "scaler = StandardScaler()\n",
        "X_scaled = scaler.fit_transform(X_raw)\n",
        "\n",
        "# Train model\n",
        "model = IsolationForest(contamination=0.05, random_state=42)\n",
        "model.fit(X_scaled)\n",
        "\n",
        "# Save models\n",
        "joblib.dump(model, 'anomaly_model.pkl')\n",
        "joblib.dump(scaler, 'scaler.pkl')\n",
        "print(\"Model and scaler saved.\")\n",
        "\n",
        "# SHAP explainability (Optional, slow for large data)\n",
        "explainer = shap.Explainer(model.predict, X_scaled[:200])\n",
        "shap_values = explainer(X_scaled[:200])\n",
        "shap.summary_plot(shap_values, X_scaled[:200], feature_names=features)\n",
        "\n",
        "# Ensure plot is displayed\n",
        "plt.show()\n"
      ],
      "metadata": {
        "colab": {
          "base_uri": "https://localhost:8080/",
          "height": 392
        },
        "id": "zhzAWOGTDCg6",
        "outputId": "8f975d3f-c1a6-424d-a998-90503f91fd5b"
      },
      "execution_count": 10,
      "outputs": [
        {
          "output_type": "stream",
          "name": "stdout",
          "text": [
            "Model and scaler saved.\n"
          ]
        },
        {
          "output_type": "stream",
          "name": "stderr",
          "text": [
            "ExactExplainer explainer: 201it [00:10,  1.68it/s]                         \n"
          ]
        },
        {
          "output_type": "display_data",
          "data": {
            "text/plain": [
              "<Figure size 800x350 with 2 Axes>"
            ],
            "image/png": "[encoded data removed]"
          },
          "metadata": {}
        }
      ]
    },
    {
      "cell_type": "markdown",
      "source": [
        "📊 3. Simulated UDEC-style Visualization"
      ],
      "metadata": {
        "id": "NwmuHTFCDwpC"
      }
    },
    {
      "cell_type": "code",
      "source": [
        "import matplotlib.patches as patches\n",
        "\n",
        "fig, ax = plt.subplots(figsize=(10, 6))\n",
        "\n",
        "# Draw tunnel area\n",
        "tunnel = patches.Rectangle((1, 1), 8, 3, linewidth=1, edgecolor='black', facecolor='lightgrey')\n",
        "ax.add_patch(tunnel)\n",
        "\n",
        "# Simulated sensor locations with random risk values\n",
        "np.random.seed(42)\n",
        "xs = np.linspace(1.5, 8.5, 10)\n",
        "ys = 2 + np.random.uniform(-0.5, 0.5, len(xs))\n",
        "risks = np.random.rand(len(xs))\n",
        "\n",
        "for x, y, risk in zip(xs, ys, risks):\n",
        "    ax.add_patch(patches.Circle((x, y), 0.2, color=plt.cm.Reds(risk)))\n",
        "    ax.text(x, y + 0.3, f\"{risk:.2f}\", ha='center', fontsize=8)\n",
        "\n",
        "ax.set_xlim(0, 10)\n",
        "ax.set_ylim(0, 5)\n",
        "ax.axis('off')\n",
        "plt.title(\"Simulated UDEC-style Hazard Map\")\n",
        "plt.show()\n"
      ],
      "metadata": {
        "colab": {
          "base_uri": "https://localhost:8080/",
          "height": 521
        },
        "id": "K7dmRKMJBUtL",
        "outputId": "4be548b7-0a64-4dd1-b90e-5164cb278e9a"
      },
      "execution_count": 3,
      "outputs": [
        {
          "output_type": "display_data",
          "data": {
            "text/plain": [
              "<Figure size 1000x600 with 1 Axes>"
            ],
            "image/png": "[encoded data removed]"
          },
          "metadata": {}
        }
      ]
    },
    {
      "cell_type": "markdown",
      "source": [
        "🧭 3D Hazard Visualization in a Mine Tunnel\n"
      ],
      "metadata": {
        "id": "kqA1wS_NDcYW"
      }
    },
    {
      "cell_type": "code",
      "source": [
        "pip install plotly\n"
      ],
      "metadata": {
        "colab": {
          "base_uri": "https://localhost:8080/"
        },
        "id": "8U5Hc9v0BgHs",
        "outputId": "f7984e6f-99ce-43de-89a8-f265e2cfab91"
      },
      "execution_count": 4,
      "outputs": [
        {
          "output_type": "stream",
          "name": "stdout",
          "text": [
            "Requirement already satisfied: plotly in /usr/local/lib/python3.11/dist-packages (5.24.1)\n",
            "Requirement already satisfied: tenacity>=6.2.0 in /usr/local/lib/python3.11/dist-packages (from plotly) (9.1.2)\n",
            "Requirement already satisfied: packaging in /usr/local/lib/python3.11/dist-packages (from plotly) (24.2)\n"
          ]
        }
      ]
    },
    {
      "cell_type": "code",
      "source": [
        "import numpy as np\n",
        "import pandas as pd\n",
        "import plotly.graph_objects as go\n",
        "\n",
        "# Simulate 3D sensor positions\n",
        "np.random.seed(42)\n",
        "n_points = 50\n",
        "x = np.random.uniform(0, 100, n_points)   # tunnel length\n",
        "y = np.random.uniform(0, 10, n_points)    # tunnel width\n",
        "z = np.random.uniform(-50, 0, n_points)   # depth below ground (negative)\n",
        "\n",
        "# Simulate risk values (0 to 1)\n",
        "risk = np.random.rand(n_points)\n",
        "\n",
        "# Create 3D scatter plot\n",
        "fig = go.Figure(data=[go.Scatter3d(\n",
        "    x=x,\n",
        "    y=y,\n",
        "    z=z,\n",
        "    mode='markers',\n",
        "    marker=dict(\n",
        "        size=6,\n",
        "        color=risk,                # Color by risk\n",
        "        colorscale='Reds',        # Red = more dangerous\n",
        "        opacity=0.8,\n",
        "        colorbar=dict(title='Risk Level')\n",
        "    ),\n",
        "    text=[f\"Sensor {i+1}<br>Risk: {r:.2f}\" for i, r in enumerate(risk)],\n",
        "    hoverinfo='text'\n",
        ")])\n",
        "\n",
        "fig.update_layout(\n",
        "    title=\"3D Visualization of Mine Tunnel Risk Zones\",\n",
        "    scene=dict(\n",
        "        xaxis_title='Tunnel Length (m)',\n",
        "        yaxis_title='Tunnel Width (m)',\n",
        "        zaxis_title='Depth (m)',\n",
        "        zaxis=dict(autorange='reversed')  # Depth should go downward\n",
        "    ),\n",
        "    height=600\n",
        ")\n",
        "\n",
        "fig.show()\n"
      ],
      "metadata": {
        "colab": {
          "base_uri": "https://localhost:8080/",
          "height": 617
        },
        "id": "qAOABkKTBlcc",
        "outputId": "2cbbbf48-44a5-4259-96ca-11cc20167254"
      },
      "execution_count": 5,
      "outputs": [
        {
          "output_type": "display_data",
          "data": {
            "text/html": [
              "<html>\n",
              "<head><meta charset=\"utf-8\" /></head>\n",
              "<body>\n",
              "    <div>            <script src=\"https://cdnjs.cloudflare.com/ajax/libs/mathjax/2.7.5/MathJax.js?config=TeX-AMS-MML_SVG\"></script><script type=\"text/javascript\">if (window.MathJax && window.MathJax.Hub && window.MathJax.Hub.Config) {window.MathJax.Hub.Config({SVG: {font: \"STIX-Web\"}});}</script>                <script type=\"text/javascript\">window.PlotlyConfig = {MathJaxConfig: 'local'};</script>\n",
              "        <script charset=\"utf-8\" src=\"https://cdn.plot.ly/plotly-2.35.2.min.js\"></script>                <div id=\"3f9c14e6-ab6d-496c-bdf9-092525fa9a45\" class=\"plotly-graph-div\" style=\"height:600px; width:100%;\"></div>            <script type=\"text/javascript\">                                    window.PLOTLYENV=window.PLOTLYENV || {};                                    if (document.getElementById(\"3f9c14e6-ab6d-496c-bdf9-092525fa9a45\")) {                    Plotly.newPlot(                        \"3f9c14e6-ab6d-496c-bdf9-092525fa9a45\",                        [{\"hoverinfo\":\"text\",\"marker\":{\"color\":[0.9082658859666537,0.23956189066697242,0.1448948720912231,0.489452760277563,0.9856504541106007,0.2420552715115004,0.6721355474058786,0.7616196153287176,0.23763754399239967,0.7282163486118596,0.3677831327192532,0.6323058305935795,0.6335297107608947,0.5357746840747585,0.0902897700544083,0.835302495589238,0.32078006497173583,0.18651851039985423,0.040775141554763916,0.5908929431882418,0.6775643618422824,0.016587828927856152,0.512093058299281,0.22649577519793795,0.6451727904094499,0.17436642900499144,0.690937738102466,0.3867353463005374,0.9367299887367345,0.13752094414599325,0.3410663510502585,0.11347352124058907,0.9246936182785628,0.877339353380981,0.2579416277151556,0.659984046034179,0.8172222002012158,0.5552008115994623,0.5296505783560065,0.24185229090045168,0.09310276780589921,0.8972157579533268,0.9004180571633305,0.6331014572732679,0.3390297910487007,0.3492095746126609,0.7259556788702394,0.8971102599525771,0.8870864242651173,0.7798755458576239],\"colorbar\":{\"title\":{\"text\":\"Risk Level\"}},\"colorscale\":[[0.0,\"rgb(255,245,240)\"],[0.125,\"rgb(254,224,210)\"],[0.25,\"rgb(252,187,161)\"],[0.375,\"rgb(252,146,114)\"],[0.5,\"rgb(251,106,74)\"],[0.625,\"rgb(239,59,44)\"],[0.75,\"rgb(203,24,29)\"],[0.875,\"rgb(165,15,21)\"],[1.0,\"rgb(103,0,13)\"]],\"opacity\":0.8,\"size\":6},\"mode\":\"markers\",\"text\":[\"Sensor 1\\u003cbr\\u003eRisk: 0.91\",\"Sensor 2\\u003cbr\\u003eRisk: 0.24\",\"Sensor 3\\u003cbr\\u003eRisk: 0.14\",\"Sensor 4\\u003cbr\\u003eRisk: 0.49\",\"Sensor 5\\u003cbr\\u003eRisk: 0.99\",\"Sensor 6\\u003cbr\\u003eRisk: 0.24\",\"Sensor 7\\u003cbr\\u003eRisk: 0.67\",\"Sensor 8\\u003cbr\\u003eRisk: 0.76\",\"Sensor 9\\u003cbr\\u003eRisk: 0.24\",\"Sensor 10\\u003cbr\\u003eRisk: 0.73\",\"Sensor 11\\u003cbr\\u003eRisk: 0.37\",\"Sensor 12\\u003cbr\\u003eRisk: 0.63\",\"Sensor 13\\u003cbr\\u003eRisk: 0.63\",\"Sensor 14\\u003cbr\\u003eRisk: 0.54\",\"Sensor 15\\u003cbr\\u003eRisk: 0.09\",\"Sensor 16\\u003cbr\\u003eRisk: 0.84\",\"Sensor 17\\u003cbr\\u003eRisk: 0.32\",\"Sensor 18\\u003cbr\\u003eRisk: 0.19\",\"Sensor 19\\u003cbr\\u003eRisk: 0.04\",\"Sensor 20\\u003cbr\\u003eRisk: 0.59\",\"Sensor 21\\u003cbr\\u003eRisk: 0.68\",\"Sensor 22\\u003cbr\\u003eRisk: 0.02\",\"Sensor 23\\u003cbr\\u003eRisk: 0.51\",\"Sensor 24\\u003cbr\\u003eRisk: 0.23\",\"Sensor 25\\u003cbr\\u003eRisk: 0.65\",\"Sensor 26\\u003cbr\\u003eRisk: 0.17\",\"Sensor 27\\u003cbr\\u003eRisk: 0.69\",\"Sensor 28\\u003cbr\\u003eRisk: 0.39\",\"Sensor 29\\u003cbr\\u003eRisk: 0.94\",\"Sensor 30\\u003cbr\\u003eRisk: 0.14\",\"Sensor 31\\u003cbr\\u003eRisk: 0.34\",\"Sensor 32\\u003cbr\\u003eRisk: 0.11\",\"Sensor 33\\u003cbr\\u003eRisk: 0.92\",\"Sensor 34\\u003cbr\\u003eRisk: 0.88\",\"Sensor 35\\u003cbr\\u003eRisk: 0.26\",\"Sensor 36\\u003cbr\\u003eRisk: 0.66\",\"Sensor 37\\u003cbr\\u003eRisk: 0.82\",\"Sensor 38\\u003cbr\\u003eRisk: 0.56\",\"Sensor 39\\u003cbr\\u003eRisk: 0.53\",\"Sensor 40\\u003cbr\\u003eRisk: 0.24\",\"Sensor 41\\u003cbr\\u003eRisk: 0.09\",\"Sensor 42\\u003cbr\\u003eRisk: 0.90\",\"Sensor 43\\u003cbr\\u003eRisk: 0.90\",\"Sensor 44\\u003cbr\\u003eRisk: 0.63\",\"Sensor 45\\u003cbr\\u003eRisk: 0.34\",\"Sensor 46\\u003cbr\\u003eRisk: 0.35\",\"Sensor 47\\u003cbr\\u003eRisk: 0.73\",\"Sensor 48\\u003cbr\\u003eRisk: 0.90\",\"Sensor 49\\u003cbr\\u003eRisk: 0.89\",\"Sensor 50\\u003cbr\\u003eRisk: 0.78\"],\"x\":[37.454011884736246,95.07143064099162,73.1993941811405,59.86584841970366,15.601864044243651,15.599452033620265,5.8083612168199465,86.61761457749351,60.11150117432088,70.80725777960456,2.0584494295802447,96.99098521619943,83.24426408004217,21.233911067827616,18.182496720710063,18.34045098534338,30.42422429595377,52.475643163223786,43.194501864211574,29.122914019804192,61.18528947223795,13.949386065204184,29.214464853521815,36.63618432936917,45.606998421703594,78.51759613930136,19.967378215835975,51.42344384136116,59.24145688620425,4.645041271999773,60.75448519014384,17.052412368729154,6.505159298527952,94.88855372533332,96.56320330745594,80.83973481164611,30.46137691733707,9.767211400638388,68.42330265121569,44.01524937396013,12.203823484477883,49.51769101112702,3.4388521115218396,90.9320402078782,25.87799816000169,66.2522284353982,31.171107608941096,52.00680211778108,54.67102793432797,18.485445552552704],\"y\":[9.695846277645586,7.7513282336111455,9.394989415641891,8.948273504276488,5.978999788110851,9.218742350231167,0.884925020519195,1.959828624191452,0.45227288910538066,3.2533033076326436,3.8867728968948203,2.713490317738959,8.287375091519294,3.567533266935893,2.8093450968738076,5.426960831582485,1.4092422497476265,8.021969807540398,0.7455064367977082,9.868869366005173,7.722447692966574,1.987156815341724,0.05522117123602399,8.154614284548341,7.068573438476172,7.2900716804098735,7.712703466859457,0.7404465173409036,3.5846572854427263,1.1586905952512971,8.631034258755935,6.232981268275579,3.308980248526492,0.6355835028602363,3.109823217156622,3.2518332202674705,7.29606178338064,6.3755747135521315,8.872127425763265,4.722149251619493,1.195942459383017,7.13244787222995,7.607850486168974,5.612771975694963,7.70967179954561,4.937955963643907,5.227328293819941,4.275410183585496,0.2541912674409519,1.0789142699330445],\"z\":[-48.42854071566329,-18.17947943681098,-34.282200946183664,-24.57146544176486,-4.621676303695352,-37.535388542556255,-29.480853848218512,-12.222443072847568,-38.56009172541888,-46.15100450856035,-35.5124273543116,-41.93893563729978,-3.5151173828713453,-9.59398102177915,-18.32981217447883,-6.426970490614117,-9.816396155044274,-40.67149705569821,-5.3720500755011145,-23.032887904217464,-9.627992241796875,-5.195435003825338,-34.09982625140681,-44.49740377361616,-38.60324187290291,-28.644610568687185,-9.099261703875342,-6.963470837182825,-49.65239347344046,-24.462634871121715,-29.12944984256105,-38.894609476463486,-44.00673163331586,-33.1192414298186,-2.854514804374041,-33.839853398962234,-24.060468912831695,-14.84905205524111,-31.8185198810353,-1.4108958639519642,-1.8776352528944358,-37.41088520873179,-25.13757470538073,-34.95608450916151,-35.75797528112662,-48.15565263227336,-19.521783301005158,-24.866048838556924,-47.42606243750053,-36.06767678816943],\"type\":\"scatter3d\"}],                        {\"template\":{\"data\":{\"histogram2dcontour\":[{\"type\":\"histogram2dcontour\",\"colorbar\":{\"outlinewidth\":0,\"ticks\":\"\"},\"colorscale\":[[0.0,\"#0d0887\"],[0.1111111111111111,\"#46039f\"],[0.2222222222222222,\"#7201a8\"],[0.3333333333333333,\"#9c179e\"],[0.4444444444444444,\"#bd3786\"],[0.5555555555555556,\"#d8576b\"],[0.6666666666666666,\"#ed7953\"],[0.7777777777777778,\"#fb9f3a\"],[0.8888888888888888,\"#fdca26\"],[1.0,\"#f0f921\"]]}],\"choropleth\":[{\"type\":\"choropleth\",\"colorbar\":{\"outlinewidth\":0,\"ticks\":\"\"}}],\"histogram2d\":[{\"type\":\"histogram2d\",\"colorbar\":{\"outlinewidth\":0,\"ticks\":\"\"},\"colorscale\":[[0.0,\"#0d0887\"],[0.1111111111111111,\"#46039f\"],[0.2222222222222222,\"#7201a8\"],[0.3333333333333333,\"#9c179e\"],[0.4444444444444444,\"#bd3786\"],[0.5555555555555556,\"#d8576b\"],[0.6666666666666666,\"#ed7953\"],[0.7777777777777778,\"#fb9f3a\"],[0.8888888888888888,\"#fdca26\"],[1.0,\"#f0f921\"]]}],\"heatmap\":[{\"type\":\"heatmap\",\"colorbar\":{\"outlinewidth\":0,\"ticks\":\"\"},\"colorscale\":[[0.0,\"#0d0887\"],[0.1111111111111111,\"#46039f\"],[0.2222222222222222,\"#7201a8\"],[0.3333333333333333,\"#9c179e\"],[0.4444444444444444,\"#bd3786\"],[0.5555555555555556,\"#d8576b\"],[0.6666666666666666,\"#ed7953\"],[0.7777777777777778,\"#fb9f3a\"],[0.8888888888888888,\"#fdca26\"],[1.0,\"#f0f921\"]]}],\"heatmapgl\":[{\"type\":\"heatmapgl\",\"colorbar\":{\"outlinewidth\":0,\"ticks\":\"\"},\"colorscale\":[[0.0,\"#0d0887\"],[0.1111111111111111,\"#46039f\"],[0.2222222222222222,\"#7201a8\"],[0.3333333333333333,\"#9c179e\"],[0.4444444444444444,\"#bd3786\"],[0.5555555555555556,\"#d8576b\"],[0.6666666666666666,\"#ed7953\"],[0.7777777777777778,\"#fb9f3a\"],[0.8888888888888888,\"#fdca26\"],[1.0,\"#f0f921\"]]}],\"contourcarpet\":[{\"type\":\"contourcarpet\",\"colorbar\":{\"outlinewidth\":0,\"ticks\":\"\"}}],\"contour\":[{\"type\":\"contour\",\"colorbar\":{\"outlinewidth\":0,\"ticks\":\"\"},\"colorscale\":[[0.0,\"#0d0887\"],[0.1111111111111111,\"#46039f\"],[0.2222222222222222,\"#7201a8\"],[0.3333333333333333,\"#9c179e\"],[0.4444444444444444,\"#bd3786\"],[0.5555555555555556,\"#d8576b\"],[0.6666666666666666,\"#ed7953\"],[0.7777777777777778,\"#fb9f3a\"],[0.8888888888888888,\"#fdca26\"],[1.0,\"#f0f921\"]]}],\"surface\":[{\"type\":\"surface\",\"colorbar\":{\"outlinewidth\":0,\"ticks\":\"\"},\"colorscale\":[[0.0,\"#0d0887\"],[0.1111111111111111,\"#46039f\"],[0.2222222222222222,\"#7201a8\"],[0.3333333333333333,\"#9c179e\"],[0.4444444444444444,\"#bd3786\"],[0.5555555555555556,\"#d8576b\"],[0.6666666666666666,\"#ed7953\"],[0.7777777777777778,\"#fb9f3a\"],[0.8888888888888888,\"#fdca26\"],[1.0,\"#f0f921\"]]}],\"mesh3d\":[{\"type\":\"mesh3d\",\"colorbar\":{\"outlinewidth\":0,\"ticks\":\"\"}}],\"scatter\":[{\"fillpattern\":{\"fillmode\":\"overlay\",\"size\":10,\"solidity\":0.2},\"type\":\"scatter\"}],\"parcoords\":[{\"type\":\"parcoords\",\"line\":{\"colorbar\":{\"outlinewidth\":0,\"ticks\":\"\"}}}],\"scatterpolargl\":[{\"type\":\"scatterpolargl\",\"marker\":{\"colorbar\":{\"outlinewidth\":0,\"ticks\":\"\"}}}],\"bar\":[{\"error_x\":{\"color\":\"#2a3f5f\"},\"error_y\":{\"color\":\"#2a3f5f\"},\"marker\":{\"line\":{\"color\":\"#E5ECF6\",\"width\":0.5},\"pattern\":{\"fillmode\":\"overlay\",\"size\":10,\"solidity\":0.2}},\"type\":\"bar\"}],\"scattergeo\":[{\"type\":\"scattergeo\",\"marker\":{\"colorbar\":{\"outlinewidth\":0,\"ticks\":\"\"}}}],\"scatterpolar\":[{\"type\":\"scatterpolar\",\"marker\":{\"colorbar\":{\"outlinewidth\":0,\"ticks\":\"\"}}}],\"histogram\":[{\"marker\":{\"pattern\":{\"fillmode\":\"overlay\",\"size\":10,\"solidity\":0.2}},\"type\":\"histogram\"}],\"scattergl\":[{\"type\":\"scattergl\",\"marker\":{\"colorbar\":{\"outlinewidth\":0,\"ticks\":\"\"}}}],\"scatter3d\":[{\"type\":\"scatter3d\",\"line\":{\"colorbar\":{\"outlinewidth\":0,\"ticks\":\"\"}},\"marker\":{\"colorbar\":{\"outlinewidth\":0,\"ticks\":\"\"}}}],\"scattermapbox\":[{\"type\":\"scattermapbox\",\"marker\":{\"colorbar\":{\"outlinewidth\":0,\"ticks\":\"\"}}}],\"scatterternary\":[{\"type\":\"scatterternary\",\"marker\":{\"colorbar\":{\"outlinewidth\":0,\"ticks\":\"\"}}}],\"scattercarpet\":[{\"type\":\"scattercarpet\",\"marker\":{\"colorbar\":{\"outlinewidth\":0,\"ticks\":\"\"}}}],\"carpet\":[{\"aaxis\":{\"endlinecolor\":\"#2a3f5f\",\"gridcolor\":\"white\",\"linecolor\":\"white\",\"minorgridcolor\":\"white\",\"startlinecolor\":\"#2a3f5f\"},\"baxis\":{\"endlinecolor\":\"#2a3f5f\",\"gridcolor\":\"white\",\"linecolor\":\"white\",\"minorgridcolor\":\"white\",\"startlinecolor\":\"#2a3f5f\"},\"type\":\"carpet\"}],\"table\":[{\"cells\":{\"fill\":{\"color\":\"#EBF0F8\"},\"line\":{\"color\":\"white\"}},\"header\":{\"fill\":{\"color\":\"#C8D4E3\"},\"line\":{\"color\":\"white\"}},\"type\":\"table\"}],\"barpolar\":[{\"marker\":{\"line\":{\"color\":\"#E5ECF6\",\"width\":0.5},\"pattern\":{\"fillmode\":\"overlay\",\"size\":10,\"solidity\":0.2}},\"type\":\"barpolar\"}],\"pie\":[{\"automargin\":true,\"type\":\"pie\"}]},\"layout\":{\"autotypenumbers\":\"strict\",\"colorway\":[\"#636efa\",\"#EF553B\",\"#00cc96\",\"#ab63fa\",\"#FFA15A\",\"#19d3f3\",\"#FF6692\",\"#B6E880\",\"#FF97FF\",\"#FECB52\"],\"font\":{\"color\":\"#2a3f5f\"},\"hovermode\":\"closest\",\"hoverlabel\":{\"align\":\"left\"},\"paper_bgcolor\":\"white\",\"plot_bgcolor\":\"#E5ECF6\",\"polar\":{\"bgcolor\":\"#E5ECF6\",\"angularaxis\":{\"gridcolor\":\"white\",\"linecolor\":\"white\",\"ticks\":\"\"},\"radialaxis\":{\"gridcolor\":\"white\",\"linecolor\":\"white\",\"ticks\":\"\"}},\"ternary\":{\"bgcolor\":\"#E5ECF6\",\"aaxis\":{\"gridcolor\":\"white\",\"linecolor\":\"white\",\"ticks\":\"\"},\"baxis\":{\"gridcolor\":\"white\",\"linecolor\":\"white\",\"ticks\":\"\"},\"caxis\":{\"gridcolor\":\"white\",\"linecolor\":\"white\",\"ticks\":\"\"}},\"coloraxis\":{\"colorbar\":{\"outlinewidth\":0,\"ticks\":\"\"}},\"colorscale\":{\"sequential\":[[0.0,\"#0d0887\"],[0.1111111111111111,\"#46039f\"],[0.2222222222222222,\"#7201a8\"],[0.3333333333333333,\"#9c179e\"],[0.4444444444444444,\"#bd3786\"],[0.5555555555555556,\"#d8576b\"],[0.6666666666666666,\"#ed7953\"],[0.7777777777777778,\"#fb9f3a\"],[0.8888888888888888,\"#fdca26\"],[1.0,\"#f0f921\"]],\"sequentialminus\":[[0.0,\"#0d0887\"],[0.1111111111111111,\"#46039f\"],[0.2222222222222222,\"#7201a8\"],[0.3333333333333333,\"#9c179e\"],[0.4444444444444444,\"#bd3786\"],[0.5555555555555556,\"#d8576b\"],[0.6666666666666666,\"#ed7953\"],[0.7777777777777778,\"#fb9f3a\"],[0.8888888888888888,\"#fdca26\"],[1.0,\"#f0f921\"]],\"diverging\":[[0,\"#8e0152\"],[0.1,\"#c51b7d\"],[0.2,\"#de77ae\"],[0.3,\"#f1b6da\"],[0.4,\"#fde0ef\"],[0.5,\"#f7f7f7\"],[0.6,\"#e6f5d0\"],[0.7,\"#b8e186\"],[0.8,\"#7fbc41\"],[0.9,\"#4d9221\"],[1,\"#276419\"]]},\"xaxis\":{\"gridcolor\":\"white\",\"linecolor\":\"white\",\"ticks\":\"\",\"title\":{\"standoff\":15},\"zerolinecolor\":\"white\",\"automargin\":true,\"zerolinewidth\":2},\"yaxis\":{\"gridcolor\":\"white\",\"linecolor\":\"white\",\"ticks\":\"\",\"title\":{\"standoff\":15},\"zerolinecolor\":\"white\",\"automargin\":true,\"zerolinewidth\":2},\"scene\":{\"xaxis\":{\"backgroundcolor\":\"#E5ECF6\",\"gridcolor\":\"white\",\"linecolor\":\"white\",\"showbackground\":true,\"ticks\":\"\",\"zerolinecolor\":\"white\",\"gridwidth\":2},\"yaxis\":{\"backgroundcolor\":\"#E5ECF6\",\"gridcolor\":\"white\",\"linecolor\":\"white\",\"showbackground\":true,\"ticks\":\"\",\"zerolinecolor\":\"white\",\"gridwidth\":2},\"zaxis\":{\"backgroundcolor\":\"#E5ECF6\",\"gridcolor\":\"white\",\"linecolor\":\"white\",\"showbackground\":true,\"ticks\":\"\",\"zerolinecolor\":\"white\",\"gridwidth\":2}},\"shapedefaults\":{\"line\":{\"color\":\"#2a3f5f\"}},\"annotationdefaults\":{\"arrowcolor\":\"#2a3f5f\",\"arrowhead\":0,\"arrowwidth\":1},\"geo\":{\"bgcolor\":\"white\",\"landcolor\":\"#E5ECF6\",\"subunitcolor\":\"white\",\"showland\":true,\"showlakes\":true,\"lakecolor\":\"white\"},\"title\":{\"x\":0.05},\"mapbox\":{\"style\":\"light\"}}},\"scene\":{\"zaxis\":{\"title\":{\"text\":\"Depth (m)\"},\"autorange\":\"reversed\"},\"xaxis\":{\"title\":{\"text\":\"Tunnel Length (m)\"}},\"yaxis\":{\"title\":{\"text\":\"Tunnel Width (m)\"}}},\"title\":{\"text\":\"3D Visualization of Mine Tunnel Risk Zones\"},\"height\":600},                        {\"responsive\": true}                    ).then(function(){\n",
              "                            \n",
              "var gd = document.getElementById('3f9c14e6-ab6d-496c-bdf9-092525fa9a45');\n",
              "var x = new MutationObserver(function (mutations, observer) {{\n",
              "        var display = window.getComputedStyle(gd).display;\n",
              "        if (!display || display === 'none') {{\n",
              "            console.log([gd, 'removed!']);\n",
              "            Plotly.purge(gd);\n",
              "            observer.disconnect();\n",
              "        }}\n",
              "}});\n",
              "\n",
              "// Listen for the removal of the full notebook cells\n",
              "var notebookContainer = gd.closest('#notebook-container');\n",
              "if (notebookContainer) {{\n",
              "    x.observe(notebookContainer, {childList: true});\n",
              "}}\n",
              "\n",
              "// Listen for the clearing of the current output cell\n",
              "var outputEl = gd.closest('.output');\n",
              "if (outputEl) {{\n",
              "    x.observe(outputEl, {childList: true});\n",
              "}}\n",
              "\n",
              "                        })                };                            </script>        </div>\n",
              "</body>\n",
              "</html>"
            ]
          },
          "metadata": {}
        }
      ]
    }
  ]
}